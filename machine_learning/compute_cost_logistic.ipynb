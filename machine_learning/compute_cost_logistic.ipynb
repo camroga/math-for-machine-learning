{
 "cells": [
  {
   "cell_type": "code",
   "execution_count": null,
   "id": "e97d1b9b",
   "metadata": {},
   "outputs": [
    {
     "data": {
      "image/png": "[encoded data removed]",
      "text/plain": [
       "<Figure size 400x400 with 1 Axes>"
      ]
     },
     "metadata": {},
     "output_type": "display_data"
    },
    {
     "name": "stdout",
     "output_type": "stream",
     "text": [
      "Cost for b = -3 :  0.36686678640551745\n",
      "Cost for b = -4 :  0.5036808636748461\n"
     ]
    }
   ],
   "source": [
    "# Cost of logistic loss function\n",
    "# This script defines the logistic loss function and plots it for both classes (y_true = 1 and y_true = 0).\n",
    "import numpy as np\n",
    "import matplotlib.pyplot as plt\n",
    "\n",
    "def compute_model(X, weights, bias):\n",
    "    \"\"\"\n",
    "    Compute the linear model output.\n",
    "    This function computes the dot product of input features and weights, adds bias, and applies the sigmoid function.\n",
    "    \n",
    "    Parameters:\n",
    "    X : array-like, shape (n_samples, n_features)\n",
    "        Input features.\n",
    "    weights : array-like, shape (n_features,)\n",
    "        Model weights.\n",
    "    bias : float\n",
    "        Model bias term.\n",
    "        \n",
    "    Returns:\n",
    "    array-like\n",
    "        The output of the model after applying the sigmoid function.\n",
    "    \"\"\"\n",
    "    z = np.dot(X, weights) + bias\n",
    "    return 1 / (1 + np.exp(-z))\n",
    "\n",
    "\n",
    "def compute_cost_logistic(X, Y, W, b):\n",
    "    \"\"\"\n",
    "    Compute the logistic loss for a given set of predictions and true labels.\n",
    "    \n",
    "    Parameters:\n",
    "    X : array-like, shape (n_samples, n_features)\n",
    "        Input features.\n",
    "    Y : array-like, shape (n_samples,)\n",
    "        True labels (0 or 1).\n",
    "    W : array-like, shape (n_features,)\n",
    "        Model weights.\n",
    "    b : float\n",
    "        Model bias term.\n",
    "        \n",
    "    Returns:\n",
    "    float\n",
    "        The computed logistic loss.\n",
    "    \"\"\"\n",
    "    y_pred = compute_model(X, W, b)\n",
    "    # Avoid log(0) by clipping predictions\n",
    "    y_pred = np.clip(y_pred, 1e-15, 1 - 1e-15)\n",
    "    \n",
    "    # Calculate the logistic loss\n",
    "    loss = -np.mean(Y * np.log(y_pred) + (1 - Y) * np.log(1 - y_pred))    \n",
    "    return loss5\n",
    "\n",
    "def plot_data(X, y):\n",
    "    fig, ax = plt.subplots(1,1,figsize=(4,4))\n",
    "    # Set both axes to be from 0-4\n",
    "    plt.scatter(X[:, 0], X[:, 1], c=y, cmap='coolwarm', edgecolors='k', s=100)\n",
    "    ax.set_title('Training Data', fontsize=14)\n",
    "    ax.set_xticks(np.arange(0, 5, 1))\n",
    "    ax.set_yticks(np.arange(0, 4, 1))\n",
    "    ax.grid(True, linestyle='--', alpha=0.7)\n",
    "    ax.set_aspect('equal', adjustable='box')\n",
    "    ax.set_ylabel('$x_1$', fontsize=12)\n",
    "    ax.set_xlabel('$x_0$', fontsize=12)\n",
    "    ax.set_title('Training Data', fontsize=14)\n",
    "    ax.set_xticks(np.arange(0, 5, 1))\n",
    "    ax.set_yticks(np.arange(0, 4, 1))\n",
    "    ax.axis([0, 4, 0, 3.5])\n",
    "    # Choose values between 0 and 6\n",
    "    x0 = np.arange(0,6)\n",
    "\n",
    "    # Plot the two decision boundaries\n",
    "    x1 = 3 - x0\n",
    "    x1_other = 4 - x0\n",
    "\n",
    "    # Plot the decision boundary\n",
    "    ax.plot(x0,x1, c='blue', label=\"$b$=-3\")\n",
    "    ax.plot(x0,x1_other, c='red', label=\"$b$=-4\")\n",
    "    plt.show()\n",
    "\n",
    "\n",
    "if __name__ == \"__main__\": \n",
    "    # Generate predicted probabilities\n",
    "    X_train = np.array([[0.5, 1.5], [1,1], [1.5, 0.5], [3, 0.5], [2, 2], [1, 2.5]])  #(m,n)\n",
    "    y_train = np.array([0, 0, 0, 1, 1, 1]) \n",
    "    w_tmp = np.array([1,1])\n",
    "    b_tmp = [-3, -4]  # Two different bias values for comparison\n",
    "    y_pred = np.linspace(0.01, 0.99, 100)  # Avoiding 0 and 1 to prevent log(0)\n",
    "    # Calculate losses for y_true = 1 and y_true = 0\n",
    "    plot_data(X_train, y_train)\n",
    "    # Plot the logistic loss\n",
    "    print(\"Cost for b = -3 : \", compute_cost_logistic(X_train, y_train, w_tmp, b_tmp[0]))\n",
    "    print(\"Cost for b = -4 : \", compute_cost_logistic(X_train, y_train, w_tmp, b_tmp[1]))\n",
    "    "
   ]
  },
  {
   "cell_type": "code",
   "execution_count": null,
   "id": "2b472180",
   "metadata": {},
   "outputs": [],
   "source": []
  },
  {
   "cell_type": "code",
   "execution_count": null,
   "id": "35bbaa51",
   "metadata": {},
   "outputs": [],
   "source": []
  },
  {
   "cell_type": "code",
   "execution_count": null,
   "id": "6f3b65f9",
   "metadata": {},
   "outputs": [],
   "source": []
  }
 ],
 "metadata": {
  "kernelspec": {
   "display_name": "Python 3",
   "language": "python",
   "name": "python3"
  },
  "language_info": {
   "codemirror_mode": {
    "name": "ipython",
    "version": 3
   },
   "file_extension": ".py",
   "mimetype": "text/x-python",
   "name": "python",
   "nbconvert_exporter": "python",
   "pygments_lexer": "ipython3",
   "version": "3.13.2"
  }
 },
 "nbformat": 4,
 "nbformat_minor": 5
}
