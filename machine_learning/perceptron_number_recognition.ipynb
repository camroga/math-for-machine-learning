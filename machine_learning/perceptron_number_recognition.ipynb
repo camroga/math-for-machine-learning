{
 "cells": [
  {
   "cell_type": "code",
   "execution_count": 4,
   "id": "d52b8a61",
   "metadata": {},
   "outputs": [
    {
     "ename": "ModuleNotFoundError",
     "evalue": "No module named 'mapplotlib'",
     "output_type": "error",
     "traceback": [
      "\u001b[31m---------------------------------------------------------------------------\u001b[39m",
      "\u001b[31mModuleNotFoundError\u001b[39m                       Traceback (most recent call last)",
      "\u001b[36mCell\u001b[39m\u001b[36m \u001b[39m\u001b[32mIn[4]\u001b[39m\u001b[32m, line 6\u001b[39m\n\u001b[32m      4\u001b[39m \u001b[38;5;28;01mfrom\u001b[39;00m\u001b[38;5;250m \u001b[39m\u001b[34;01mtensorflow\u001b[39;00m\u001b[34;01m.\u001b[39;00m\u001b[34;01mkeras\u001b[39;00m\u001b[34;01m.\u001b[39;00m\u001b[34;01mmodels\u001b[39;00m\u001b[38;5;250m \u001b[39m\u001b[38;5;28;01mimport\u001b[39;00m Sequential\n\u001b[32m      5\u001b[39m \u001b[38;5;28;01mfrom\u001b[39;00m\u001b[38;5;250m \u001b[39m\u001b[34;01mtensorflow\u001b[39;00m\u001b[34;01m.\u001b[39;00m\u001b[34;01mkeras\u001b[39;00m\u001b[34;01m.\u001b[39;00m\u001b[34;01mlayers\u001b[39;00m\u001b[38;5;250m \u001b[39m\u001b[38;5;28;01mimport\u001b[39;00m Dense\n\u001b[32m----> \u001b[39m\u001b[32m6\u001b[39m \u001b[38;5;28;01mimport\u001b[39;00m\u001b[38;5;250m \u001b[39m\u001b[34;01mmapplotlib\u001b[39;00m\u001b[34;01m.\u001b[39;00m\u001b[34;01mpyplot\u001b[39;00m\u001b[38;5;250m \u001b[39m\u001b[38;5;28;01mas\u001b[39;00m\u001b[38;5;250m \u001b[39m\u001b[34;01mplt\u001b[39;00m\n\u001b[32m      9\u001b[39m \u001b[38;5;28;01mdef\u001b[39;00m\u001b[38;5;250m \u001b[39m\u001b[34mloadMNIST\u001b[39m():\n\u001b[32m     10\u001b[39m     \u001b[38;5;66;03m# Load the MNIST dataset\u001b[39;00m\n\u001b[32m     11\u001b[39m     (x_train, y_train), (x_test, y_test) = tf.keras.datasets.mnist.load_data()\n",
      "\u001b[31mModuleNotFoundError\u001b[39m: No module named 'mapplotlib'"
     ]
    }
   ],
   "source": [
    "# Neural networks for handwriting binary digit recognition\n",
    "import numpy as np\n",
    "import tensorflow as tf\n",
    "from tensorflow.keras.models import Sequential\n",
    "from tensorflow.keras.layers import Dense\n",
    "import mapplotlib.pyplot as plt\n",
    "\n",
    "\n",
    "def loadMNIST():\n",
    "    # Load the MNIST dataset\n",
    "    (x_train, y_train), (x_test, y_test) = tf.keras.datasets.mnist.load_data()\n",
    "    \n",
    "    # Preprocess the data\n",
    "    x_train = x_train.reshape((x_train.shape[0], -1)).astype('float32') / 255.0\n",
    "    x_test = x_test.reshape((x_test.shape[0], -1)).astype('float32') / 255.0\n",
    "    \n",
    "    return (x_train, y_train), (x_test, y_test)\n",
    "\n",
    "def showImage(image):\n",
    "    # Display an image\n",
    "    plt.imshow(image.reshape(28, 28), cmap='gray')\n",
    "    plt.axis('off')\n",
    "    plt.show() \n",
    "\n",
    "if __name__ == \"__main__\":\n",
    "    # Load the MNIST dataset\n",
    "    (x_train, y_train), (x_test, y_test) = loadMNIST()\n",
    "    \n",
    "    # Show the first image in the training set\n",
    "    showImage(x_train[0])\n",
    "    \n",
    "    # # Create a simple neural network model\n",
    "    # model = Sequential([\n",
    "    #     Dense(128, activation='relu', input_shape=(784,)),\n",
    "    #     Dense(64, activation='relu'),\n",
    "    #     Dense(10, activation='softmax')\n",
    "    # ])\n",
    "    \n",
    "    # # Compile the model\n",
    "    # model.compile(optimizer='adam', loss='sparse_categorical_crossentropy', metrics=['accuracy'])\n",
    "    \n",
    "    # # Train the model\n",
    "    # model.fit(x_train, y_train, epochs=5, batch_size=32)\n",
    "    \n",
    "    # # Evaluate the model\n",
    "    # test_loss, test_acc = model.evaluate(x_test, y_test)\n",
    "    # print(f'Test accuracy: {test_acc:.4f}')\n"
   ]
  },
  {
   "cell_type": "code",
   "execution_count": null,
   "id": "3025c066",
   "metadata": {},
   "outputs": [],
   "source": []
  }
 ],
 "metadata": {
  "kernelspec": {
   "display_name": "Python 3",
   "language": "python",
   "name": "python3"
  },
  "language_info": {
   "codemirror_mode": {
    "name": "ipython",
    "version": 3
   },
   "file_extension": ".py",
   "mimetype": "text/x-python",
   "name": "python",
   "nbconvert_exporter": "python",
   "pygments_lexer": "ipython3",
   "version": "3.11.9"
  }
 },
 "nbformat": 4,
 "nbformat_minor": 5
}
