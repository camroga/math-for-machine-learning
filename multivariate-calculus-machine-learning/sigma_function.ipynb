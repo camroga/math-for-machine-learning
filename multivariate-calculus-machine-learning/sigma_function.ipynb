{
 "cells": [
  {
   "cell_type": "code",
   "execution_count": 1,
   "metadata": {},
   "outputs": [],
   "source": [
    "import numpy as np\n"
   ]
  },
  {
   "cell_type": "code",
   "execution_count": null,
   "metadata": {},
   "outputs": [
    {
     "name": "stdout",
     "output_type": "stream",
     "text": [
      "[ 0.76 -0.76]\n"
     ]
    }
   ],
   "source": [
    "# First set up the network.\n",
    "sigma = np.tanh\n",
    "W = np.array([[-2, 4, -1],[6, 0, -3]])\n",
    "b = np.array([0.1, -2.5])\n",
    "\n",
    "# Define our input vector\n",
    "x = np.array([0.3, 0.4, 0.1])\n",
    "\n",
    "# Calculate the values by hand,\n",
    "Wx = np.dot(W, x)\n",
    "# and add the bias\n",
    "Wx_b = Wx + b\n",
    "# and replace a1_0 and a1_1 here (to 2 decimal places)\n",
    "a1_0 = round(sigma(Wx_b[0]), 2)\n",
    "a1_1 = round(sigma(Wx_b[1]), 2)\n",
    "\n",
    "a1 = np.array([a1_0, a1_1])\n",
    "print(a1)"
   ]
  },
  {
   "cell_type": "code",
   "execution_count": null,
   "metadata": {},
   "outputs": [],
   "source": []
  }
 ],
 "metadata": {
  "kernelspec": {
   "display_name": "Python 3",
   "language": "python",
   "name": "python3"
  },
  "language_info": {
   "codemirror_mode": {
    "name": "ipython",
    "version": 3
   },
   "file_extension": ".py",
   "mimetype": "text/x-python",
   "name": "python",
   "nbconvert_exporter": "python",
   "pygments_lexer": "ipython3",
   "version": "3.13.2"
  }
 },
 "nbformat": 4,
 "nbformat_minor": 2
}
