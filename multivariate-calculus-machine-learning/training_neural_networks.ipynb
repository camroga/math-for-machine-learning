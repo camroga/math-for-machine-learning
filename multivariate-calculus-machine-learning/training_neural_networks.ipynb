{
 "cells": [
  {
   "cell_type": "code",
   "execution_count": 10,
   "metadata": {},
   "outputs": [],
   "source": [
    "# The following code block has an example implementation of dCk/dw(1)\n",
    "# It is up to you to implement and dCk/dw(2).\n",
    "# We will introduce the following derivative in the code,\n",
    "# d tanh(z)/dz = 1 - tanh(z)^2\n",
    "import numpy as np\n",
    "import matplotlib.pyplot as plt\n",
    "import math"
   ]
  },
  {
   "cell_type": "markdown",
   "metadata": {},
   "source": []
  },
  {
   "cell_type": "code",
   "execution_count": 9,
   "metadata": {},
   "outputs": [
    {
     "name": "stdout",
     "output_type": "stream",
     "text": [
      "-1.1186026425530913\n"
     ]
    }
   ],
   "source": [
    "# First define our sigma function.\n",
    "sigma = np.tanh\n",
    "\n",
    "# Next define the feed-forward equation.\n",
    "def a1 (w1, b1, a0) :\n",
    "  z = w1 * a0 + b1\n",
    "  return sigma(z)\n",
    "\n",
    "# The individual cost function is the square of the difference between\n",
    "# the network output and the training data output.\n",
    "def C (w1, b1, x, y) :\n",
    "  return (a1(w1, b1, x) - y)**2\n",
    "\n",
    "# This function returns the derivative of the cost function with\n",
    "# respect to the weight.\n",
    "def dCdw (w1, b1, x, y) :\n",
    "  z = w1 * x + b1\n",
    "  dCda = 2 * (a1(w1, b1, x) - y) # Derivative of cost with activation\n",
    "  dadz = 1/np.cosh(z)**2 # derivative of activation with weighted sum z\n",
    "  dzdw = x # derivative of weighted sum z with weight\n",
    "  return dCda * dadz * dzdw # Return the chain rule product.\n",
    "\n",
    "# This function returns the derivative of the cost function with\n",
    "# respect to the bias.\n",
    "# It is very similar to the previous function.\n",
    "# You should complete this function.\n",
    "def dCdb (w1, b1, x, y) :\n",
    "  z = w1 * x + b1\n",
    "  dCda = 2 * (a1(w1, b1, x) - y)\n",
    "  dadz = 1/np.cosh(z)**2\n",
    "  \"\"\" Change the next line to give the derivative of\n",
    "      the weighted sum, z, with respect to the bias, b. \"\"\"\n",
    "  dzdb = 1\n",
    "  return dCda * dadz * dzdb\n",
    "\n",
    "\"\"\"Test your code before submission:\"\"\"\n",
    "# Let's start with an unfit weight and bias.\n",
    "w1 = 2.3\n",
    "b1 = -1.2\n",
    "# We can test on a single data point pair of x and y.\n",
    "x = 0\n",
    "y = 1\n",
    "# Output how the cost would change\n",
    "# in proportion to a small change in the bias\n",
    "print( dCdb(w1, b1, x, y) )"
   ]
  },
  {
   "cell_type": "code",
   "execution_count": null,
   "metadata": {},
   "outputs": [],
   "source": []
  }
 ],
 "metadata": {
  "kernelspec": {
   "display_name": "Python 3",
   "language": "python",
   "name": "python3"
  },
  "language_info": {
   "codemirror_mode": {
    "name": "ipython",
    "version": 3
   },
   "file_extension": ".py",
   "mimetype": "text/x-python",
   "name": "python",
   "nbconvert_exporter": "python",
   "pygments_lexer": "ipython3",
   "version": "3.13.2"
  }
 },
 "nbformat": 4,
 "nbformat_minor": 2
}
