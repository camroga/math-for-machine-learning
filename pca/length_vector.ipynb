{
 "cells": [
  {
   "cell_type": "code",
   "execution_count": null,
   "id": "b6f172db",
   "metadata": {},
   "outputs": [
    {
     "name": "stdout",
     "output_type": "stream",
     "text": [
      "The length of the vector [3, 4] is 5.0\n"
     ]
    }
   ],
   "source": [
    "# get length of a vector\n",
    "# using numpy\n",
    "import numpy as np\n",
    "def vec_length(vec):\n",
    "    \"\"\"\n",
    "    Calculate the length of a vector using numpy.\n",
    "\n",
    "    Parameters:\n",
    "    vec (list or np.ndarray): The input vector.\n",
    "\n",
    "    Returns:\n",
    "    float: The length of the vector.\n",
    "    \"\"\"\n",
    "    # or length_x = np.sqrt(np.sum(x**2))\n",
    "    return np.linalg.norm(vec)\n",
    "\n",
    "if __name__ == \"__main__\":\n",
    "    # Example usage\n",
    "    vec = [3, 4]\n",
    "    length = vec_length(vec)\n",
    "    print(f\"The length of the vector {vec} is {length}\")\n",
    "# using math"
   ]
  }
 ],
 "metadata": {
  "kernelspec": {
   "display_name": "Python 3",
   "language": "python",
   "name": "python3"
  },
  "language_info": {
   "codemirror_mode": {
    "name": "ipython",
    "version": 3
   },
   "file_extension": ".py",
   "mimetype": "text/x-python",
   "name": "python",
   "nbconvert_exporter": "python",
   "pygments_lexer": "ipython3",
   "version": "3.13.2"
  }
 },
 "nbformat": 4,
 "nbformat_minor": 5
}
